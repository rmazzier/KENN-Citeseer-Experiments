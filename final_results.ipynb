{
 "metadata": {
  "language_info": {
   "codemirror_mode": {
    "name": "ipython",
    "version": 3
   },
   "file_extension": ".py",
   "mimetype": "text/x-python",
   "name": "python",
   "nbconvert_exporter": "python",
   "pygments_lexer": "ipython3",
   "version": "3.8.5"
  },
  "orig_nbformat": 2,
  "kernelspec": {
   "name": "python3",
   "language": "python",
   "display_name": "Python 3 (ipykernel)"
  }
 },
 "nbformat": 4,
 "nbformat_minor": 2,
 "cells": [
  {
   "cell_type": "markdown",
   "source": [
    "# Kenn Experiments - Plots and Statistics\n",
    "Run this notebook only after all the tests have been run. "
   ],
   "metadata": {
    "collapsed": false
   }
  },
  {
   "cell_type": "code",
   "execution_count": null,
   "outputs": [],
   "source": [
    "from model import *\n",
    "from pre_elab import *\n",
    "from evaluation_functions import *\n",
    "import settings as s\n",
    "import pickle"
   ],
   "metadata": {
    "collapsed": false,
    "pycharm": {
     "name": "#%%\n"
    }
   }
  },
  {
   "cell_type": "markdown",
   "source": [
    "# Loading results"
   ],
   "metadata": {
    "collapsed": false
   }
  },
  {
   "cell_type": "code",
   "execution_count": null,
   "outputs": [],
   "source": [
    "history_inductive = []\n",
    "history_transductive = []\n",
    "\n",
    "for i in range(1,7):\n",
    "    with open('results/e2e/results_inductive_100runs_{}layers'.format(i),'rb') as input:\n",
    "        history_inductive.append(pickle.load(input))\n",
    "    \n",
    "    with open('results/e2e/results_transductive_100runs_{}layers'.format(i),'rb') as input:\n",
    "        history_transductive.append(pickle.load(input))"
   ],
   "metadata": {
    "collapsed": false,
    "pycharm": {
     "name": "#%%\n"
    }
   }
  },
  {
   "cell_type": "markdown",
   "source": [
    "# Print stats"
   ],
   "metadata": {
    "collapsed": false,
    "pycharm": {
     "name": "#%% md\n"
    }
   }
  },
  {
   "cell_type": "code",
   "execution_count": null,
   "outputs": [],
   "source": [
    "def print_stats(history_all):\n",
    "    n_layers_tried = len(history_all)\n",
    "    for n_layers, history in zip(range(1, n_layers_tried + 1), history_all):\n",
    "        print(\"============ KE layers: {} ============\".format(n_layers))\n",
    "        \n",
    "        means, stds, means_kenn, stds_kenn, means_deltas, stds_deltas = get_means_and_stds(history)\n",
    "        p_vals = make_t_test(history)\n",
    "        for i, key in enumerate(history.keys()):\n",
    "            print(\"== {}% ==\".format(key))\n",
    "            print(\"Mean Test Accuracy:\\tNN = {:8.6f}; KENN = {:8.6f}\".format(\n",
    "                means[i], means_kenn[i]))\n",
    "            print(\"Test Accuracy std:\\tNN = {:8.6f}; KENN = {:8.6f}\".format(\n",
    "                stds[i], stds_kenn[i]))\n",
    "            print(\"\\t\\t\\tDeltas Mean = {:8.6f}\".format(means_deltas[i]))\n",
    "            print(\"\\t\\t\\tDeltas Std = {:8.6f}\".format(stds_deltas[i]))\n",
    "            print(\"\\t\\t\\tright tailed p-value: {}\".format(p_vals[i]))\n",
    "            print()"
   ],
   "metadata": {
    "collapsed": false,
    "pycharm": {
     "name": "#%%\n"
    }
   }
  },
  {
   "cell_type": "code",
   "source": [
    "print_stats(history_inductive)"
   ],
   "metadata": {
    "collapsed": false,
    "pycharm": {
     "name": "#%%\n"
    }
   },
   "execution_count": null,
   "outputs": []
  },
  {
   "cell_type": "code",
   "execution_count": null,
   "outputs": [],
   "source": [
    "print_stats(history_transductive)"
   ],
   "metadata": {
    "collapsed": false,
    "pycharm": {
     "name": "#%%\n"
    }
   }
  },
  {
   "cell_type": "markdown",
   "source": [
    "# Plot deltas\n",
    "Improvements in terms of accuracy obtained by the different methods (KENN with 3 KEs layers, SBR, and RNM)"
   ],
   "metadata": {
    "collapsed": false,
    "pycharm": {
     "name": "#%% md\n"
    }
   }
  },
  {
   "cell_type": "code",
   "execution_count": null,
   "outputs": [],
   "source": [
    "def plot_deltas(history, ax, barwidth=0.3, title='', other_deltas='', confidence_level=0.95):\n",
    "    assert(other_deltas == '' or other_deltas == 'i' or other_deltas == 't')\n",
    "    _, _, _, _, means_deltas, _ = get_means_and_stds(history)\n",
    "\n",
    "\n",
    "    results_NN_Marra_i = np.array([0.645, 0.674, 0.707, 0.717, 0.723])\n",
    "    results_SBR_i = np.array([0.650, 0.682, 0.712, 0.719, 0.726])\n",
    "    results_RNM_i = np.array([0.685, 0.709, 0.726, 0.726, 0.732])\n",
    "\n",
    "    results_NN_Marra_t = np.array([0.640, 0.667, 0.695, 0.708, 0.726])\n",
    "    results_SBR_t = np.array([0.703, 0.729, 0.747, 0.764, 0.780])\n",
    "    results_RNM_t = np.array([0.708, 0.735, 0.753, 0.766, 0.780])\n",
    "\n",
    "    deltas_SBR_i = results_SBR_i - results_NN_Marra_i\n",
    "    deltas_RNM_i = results_RNM_i - results_NN_Marra_i\n",
    "\n",
    "    deltas_SBR_t = results_SBR_t - results_NN_Marra_t\n",
    "    deltas_RNM_t = results_RNM_t - results_NN_Marra_t\n",
    "\n",
    "    r = np.arange(5) * 3.5 * barwidth\n",
    "    ax.bar(r, means_deltas, width=barwidth, edgecolor='white', label='KENN')\n",
    "\n",
    "    if other_deltas == 'i':\n",
    "        r2 = [x + barwidth for x in r]\n",
    "        r3 = [x + barwidth for x in r2]\n",
    "        ax.bar(r2, deltas_SBR_i, width=barwidth,\n",
    "                edgecolor='white', label='SBR')\n",
    "        ax.bar(r3, deltas_RNM_i, width=barwidth,\n",
    "                edgecolor='white', label='RNM')\n",
    "\n",
    "    elif other_deltas == 't':\n",
    "        r2 = [x + barwidth for x in r]\n",
    "        r3 = [x + barwidth for x in r2]\n",
    "        ax.bar(r2, deltas_SBR_t, width=barwidth, edgecolor='white', label='SBR')\n",
    "        ax.bar(r3, deltas_RNM_t, width=barwidth, edgecolor='white', label='RNM')\n",
    "\n",
    "    ax.set_xlabel('Percentage of Training', fontweight='bold')\n",
    "    ax.set_xticks(r2,\n",
    "               list(history.keys()))\n",
    "\n",
    "    ax.set_title(title)\n"
   ],
   "metadata": {
    "collapsed": false,
    "pycharm": {
     "name": "#%%\n"
    }
   }
  },
  {
   "cell_type": "code",
   "execution_count": null,
   "outputs": [],
   "source": [
    "fig, axes = plt.subplots(1, 2, sharex='col', sharey='row', figsize=(15, 5))\n",
    "fig.suptitle('Improvements over the NN', fontsize=16)\n",
    "plot_deltas(history_inductive[2], axes[0], title='Inductive', other_deltas='i', barwidth=0.6)\n",
    "axes[0].set_ylabel('Improvement in accuracy', fontweight='bold')\n",
    "plot_deltas(history_transductive[2], axes[1], title='Transductive', other_deltas='t', barwidth=0.6)\n",
    "axes[1].legend(loc='upper right')\n",
    "\n",
    "fig.savefig('plots/deltas.png')\n",
    "fig.show()"
   ],
   "metadata": {
    "collapsed": false,
    "pycharm": {
     "name": "#%%\n"
    }
   }
  },
  {
   "cell_type": "markdown",
   "source": [
    "# Plot accuracies with different number of KEs"
   ],
   "metadata": {
    "collapsed": false
   }
  },
  {
   "cell_type": "code",
   "execution_count": null,
   "outputs": [],
   "source": [
    "color_NN = 'grey'\n",
    "colors_map = ['darkblue', 'darkorange', 'darkgreen', 'darkred', 'lightblue', 'grey', 'brown']\n",
    "color_SBR = ['pink']\n",
    "color_RNM = ['purple']"
   ],
   "metadata": {
    "collapsed": false,
    "pycharm": {
     "name": "#%%\n"
    }
   }
  },
  {
   "cell_type": "code",
   "execution_count": null,
   "outputs": [],
   "source": [
    "def plot_accuracies_n_layers(history_all, ax, title, confidence_level=0.99):\n",
    "    n_layers_tried = len(history_all)\n",
    "    \n",
    "    means_kenn_list = []\n",
    "    stds_kenn_list = []\n",
    "    confidence_margins_kenn_list = []\n",
    "    for history in history_all:\n",
    "        confidence_margins_nn, confidence_margins_kenn, _ = get_all_confidence_margins(history, confidence_level)\n",
    "        means, stds, means_kenn, stds_kenn, _, _ = get_means_and_stds(history)\n",
    "\n",
    "        confidence_margins_kenn_list.append(confidence_margins_kenn)\n",
    "        means_kenn_list.append(means_kenn)\n",
    "        stds_kenn_list.append(stds_kenn)\n",
    "\n",
    "    \n",
    "    means_matrix = np.stack([means] + [np.array(mean) for mean in means_kenn_list], 0).T\n",
    "    confidence_margins_matrix = np.stack([confidence_margins_nn] + [np.array(cm) for cm in confidence_margins_kenn_list], 0).T\n",
    "\n",
    "    r = np.array([0,1,2,3,4,5,6])\n",
    "\n",
    "    training_percentage = ['10%', '25%', '50%', '75%', '90%']\n",
    "    colors = ['grey', 'darkblue', 'orange', 'darkgreen', 'darkred']\n",
    "    for tp, means, confidence_margins, c in zip(training_percentage, means_matrix, confidence_margins_matrix, colors):\n",
    "        ax.plot(r, means, '-+', label=tp, color=c)\n",
    "        ax.fill_between(r, [m - cm for m, cm in zip(means, confidence_margins)],\n",
    "                           [m + cm for m, cm in zip(means, confidence_margins)], color=c, alpha=.15)\n",
    "\n",
    "    # Add xticks on the middle of the group bars\n",
    "    ax.set_xlabel('Number of KEs', fontweight='bold')\n",
    "    ax.set_title(title, fontsize=13)\n",
    "\n",
    "    \n",
    "\n",
    "\n",
    "fig, axes = plt.subplots(1, 2, sharex='col', sharey='row', figsize=(15, 5))\n",
    "fig.suptitle('Accuracy results at varying number of KE layers (with 99% confidence intervals)', fontsize=16)\n",
    "plot_accuracies_n_layers(history_inductive, axes[0], 'Inductive')\n",
    "axes[0].set_ylabel('Test Accuracy', fontweight='bold')\n",
    "plot_accuracies_n_layers(history_transductive, axes[1], 'Transductive')\n",
    "axes[1].legend(loc='best')\n",
    "\n",
    "\n",
    "fig.savefig('plots/n_layers_plot.png')\n",
    "fig.show()"
   ],
   "metadata": {
    "collapsed": false,
    "pycharm": {
     "name": "#%%\n"
    }
   }
  },
  {
   "cell_type": "code",
   "execution_count": null,
   "outputs": [],
   "source": [
    "# Histograms"
   ],
   "metadata": {
    "collapsed": false,
    "pycharm": {
     "name": "#%%\n"
    }
   }
  },
  {
   "cell_type": "code",
   "execution_count": null,
   "outputs": [],
   "source": [
    "plot_histograms(history_inductive[2], 'history_inductive', bw=0.6, bins=40)\n"
   ],
   "metadata": {
    "collapsed": false,
    "pycharm": {
     "name": "#%%\n"
    }
   }
  },
  {
   "cell_type": "code",
   "execution_count": null,
   "outputs": [],
   "source": [
    "plot_histograms(history_transductive[2], 'history_transductive', bw=0.6, bins=40)"
   ],
   "metadata": {
    "collapsed": false,
    "pycharm": {
     "name": "#%%\n"
    }
   }
  },
  {
   "cell_type": "markdown",
   "source": [
    "# Plot execution time"
   ],
   "metadata": {
    "collapsed": false
   }
  },
  {
   "cell_type": "code",
   "execution_count": null,
   "outputs": [],
   "source": [
    "def plot_time(history_all, ax, x_label, title, others, barwidth=0.1, confidence_level=0.95):\n",
    "    \n",
    "    time = []\n",
    "    for p in ['10', '25', '50', '75', '90']:\n",
    "        time.append(np.mean([a['time'] for a in history_all[0][p]['NN']]))\n",
    "\n",
    "    ax.bar(0 * barwidth, np.mean(time), label='KENN l={}'.format(0), width=barwidth, color=color_NN, edgecolor='white')\n",
    "    print(np.mean(time))\n",
    "    \n",
    "    for i in range(3):\n",
    "        time = []\n",
    "        for p in ['10', '25', '50', '75', '90']:\n",
    "            time.append(np.mean([a['time'] for a in history_all[i][p]['KENN']]))\n",
    "\n",
    "        print('{}:{} -> {}'.format(i + 1, i * barwidth, np.mean(time)))\n",
    "        ax.bar((i + 1) * barwidth, np.mean(time), label='KENN l={}'.format(i + 1), width=barwidth, color=colors_map[i], edgecolor='white')\n",
    "    \n",
    "    if others:\n",
    "        ax.bar(4 * barwidth, 87.35614902210236, label='SBR', width=barwidth, color=color_SBR, edgecolor='white')\n",
    "        ax.bar(5 * barwidth, 215.69408444309235, label='RNM', width=barwidth, color=color_RNM, edgecolor='white')\n",
    "    \n",
    "    if others:\n",
    "        ax.set_xticks([i * barwidth for i in range(6)], [0, 1, 2, 3,'SBR','RNM'])\n",
    "    else:\n",
    "        ax.set_xticks([i * barwidth for i in range(4)], [0, 1, 2, 3])\n",
    "\n",
    "\n",
    "    # Add xticks on the middle of the group bars\n",
    "    ax.set_xlabel(x_label, fontweight='bold')\n",
    "    ax.set_title(title, fontsize=13)\n",
    "\n",
    "    \n",
    "\n",
    "\n",
    "fig, axes = plt.subplots(1, 2, sharex='col', sharey='row', figsize=(15, 5))\n",
    "fig.suptitle('Execution time', fontsize=16)\n",
    "plot_time(history_inductive, axes[0], 'Number of KEs', 'Inductive', False)\n",
    "axes[0].set_ylabel('Time (s)', fontweight='bold')\n",
    "plot_time(history_transductive, axes[1], 'Number of KEs', 'Transductive', False)\n",
    "\n",
    "fig.savefig('plots/time_kenn.png')\n",
    "fig.show()\n"
   ],
   "metadata": {
    "collapsed": false,
    "pycharm": {
     "name": "#%%\n"
    }
   }
  },
  {
   "cell_type": "code",
   "execution_count": null,
   "outputs": [],
   "source": [
    "fig, axes = plt.subplots(1, 2, sharex='col', sharey='row', figsize=(15, 5))\n",
    "fig.suptitle('Execution time', fontsize=16)\n",
    "plot_time(history_inductive, axes[0], 'Number of KEs', 'Inductive', False)\n",
    "axes[0].set_ylabel('Time (s)', fontweight='bold')\n",
    "plot_time(history_transductive, axes[1], 'Model', 'Transductive', True)\n",
    "axes[1].set_yscale('log')\n",
    "# axes[0].legend(loc='upper left')\n",
    "    \n",
    "fig.savefig('plots/time_all.png')\n",
    "fig.show()"
   ],
   "metadata": {
    "collapsed": false,
    "pycharm": {
     "name": "#%%\n"
    }
   }
  },
  {
   "cell_type": "code",
   "execution_count": null,
   "outputs": [],
   "source": [],
   "metadata": {
    "collapsed": false,
    "pycharm": {
     "name": "#%%\n"
    }
   }
  }
 ]
}